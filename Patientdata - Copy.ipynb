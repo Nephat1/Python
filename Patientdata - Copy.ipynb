{
 "cells": [
  {
   "cell_type": "code",
   "execution_count": 6,
   "id": "83bd8927-df4f-4b4a-bb1a-f9406afad64c",
   "metadata": {},
   "outputs": [
    {
     "name": "stdout",
     "output_type": "stream",
     "text": [
      "   PatientNo  FirstName  LastName  Age(Yrs)  Weight(Kgs)  Height(Meters)\n",
      "0     KNH009     Joseph    Mwaura        22           72             5.0\n",
      "1     KNH876  Millicent   Anyango        34           65             6.0\n",
      "2     KNH543       Ezra   Ochieng        54           58             5.0\n",
      "3     MAT324     Walter  Odhiambo        34           56             4.5\n",
      "4     AGH546     Daniel   Makhulo        32           47             5.4\n",
      "5     DAT321      Grace    Naisho        28           83             6.2\n",
      "6     END453    Vincent     Rioka        43           66             5.7\n",
      "7     KNH877      Alice     Moraa        21           71             4.8\n",
      "8     KNH544   Patricia    Mwende        25           60             5.6\n",
      "9     MAT334  Elizabeth    Wambui        47           57             5.8\n",
      "10    DAT402    Fidelis     Kyalo        19           53             6.1\n",
      "11    END765     Doecas     Njeri        26           51             4.7\n"
     ]
    }
   ],
   "source": [
    "import pandas as pd\n",
    "patientdata=pd.read_csv('Patientdata.csv')\n",
    "print(patientdata)"
   ]
  },
  {
   "cell_type": "code",
   "execution_count": 7,
   "id": "c20440e0-54dd-4cfd-a9e0-d382ad0ad434",
   "metadata": {},
   "outputs": [
    {
     "name": "stdout",
     "output_type": "stream",
     "text": [
      "   PatientNo  FirstName LastName  Age(Yrs)  Weight(Kgs)  Height(Meters)\n",
      "7     KNH877      Alice    Moraa        21           71             4.8\n",
      "8     KNH544   Patricia   Mwende        25           60             5.6\n",
      "9     MAT334  Elizabeth   Wambui        47           57             5.8\n",
      "10    DAT402    Fidelis    Kyalo        19           53             6.1\n",
      "11    END765     Doecas    Njeri        26           51             4.7\n"
     ]
    }
   ],
   "source": [
    "print(patientdata.tail(5))"
   ]
  },
  {
   "cell_type": "code",
   "execution_count": 8,
   "id": "05850c98-c65c-4a0c-aeb0-933674714a1e",
   "metadata": {},
   "outputs": [
    {
     "name": "stdout",
     "output_type": "stream",
     "text": [
      "   PatientNo  FirstName LastName  Age(Yrs)  Weight(Kgs)  Height(Meters)\n",
      "8     KNH544   Patricia   Mwende        25           60             5.6\n",
      "7     KNH877      Alice    Moraa        21           71             4.8\n",
      "5     DAT321      Grace   Naisho        28           83             6.2\n",
      "11    END765     Doecas    Njeri        26           51             4.7\n",
      "1     KNH876  Millicent  Anyango        34           65             6.0\n",
      "9     MAT334  Elizabeth   Wambui        47           57             5.8\n",
      "6     END453    Vincent    Rioka        43           66             5.7\n"
     ]
    }
   ],
   "source": [
    "print(patientdata.sample(7))"
   ]
  },
  {
   "cell_type": "code",
   "execution_count": null,
   "id": "9ede81f7-8534-4537-8449-17f01a2f4a59",
   "metadata": {},
   "outputs": [],
   "source": []
  }
 ],
 "metadata": {
  "kernelspec": {
   "display_name": "Python 3 (ipykernel)",
   "language": "python",
   "name": "python3"
  },
  "language_info": {
   "codemirror_mode": {
    "name": "ipython",
    "version": 3
   },
   "file_extension": ".py",
   "mimetype": "text/x-python",
   "name": "python",
   "nbconvert_exporter": "python",
   "pygments_lexer": "ipython3",
   "version": "3.12.2"
  }
 },
 "nbformat": 4,
 "nbformat_minor": 5
}
