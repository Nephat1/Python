{
 "cells": [
  {
   "cell_type": "code",
   "execution_count": 2,
   "id": "b4cd329b-1fc6-4cb5-9cfb-83794e333538",
   "metadata": {},
   "outputs": [
    {
     "name": "stdout",
     "output_type": "stream",
     "text": [
      "     Grade Institution  Completionyear\n",
      "0    First  Strathmore            2010\n",
      "1    First  Strathmore            2022\n",
      "2   Second  Strathmore            2023\n",
      "3   Second  Strathmore            2015\n",
      "4   Second         UOE            2014\n",
      "5   Second        USIU            2021\n",
      "6   Second        USIU            2022\n",
      "7   Second         UON            2023\n",
      "8     Pass         Moi            2015\n",
      "9     Pass         UON            2014\n",
      "10    Pass        USIU            2021\n",
      "11    Pass        USIU            2014\n",
      "12   First       UNISA            2010\n",
      "13  Second       UNISA            2022\n",
      "14  Second       UNISA            2023\n"
     ]
    }
   ],
   "source": [
    "import pandas as pd\n",
    "University=pd.read_csv('University.csv')\n",
    "print(University)"
   ]
  },
  {
   "cell_type": "code",
   "execution_count": 3,
   "id": "c3ce9886-2bcc-48be-a9bb-f8a2aee32f76",
   "metadata": {},
   "outputs": [
    {
     "name": "stdout",
     "output_type": "stream",
     "text": [
      "     Grade Institution\n",
      "0    First  Strathmore\n",
      "1    First  Strathmore\n",
      "2   Second  Strathmore\n",
      "3   Second  Strathmore\n",
      "4   Second         UOE\n",
      "5   Second        USIU\n",
      "6   Second        USIU\n",
      "7   Second         UON\n",
      "8     Pass         Moi\n",
      "9     Pass         UON\n",
      "10    Pass        USIU\n",
      "11    Pass        USIU\n",
      "12   First       UNISA\n",
      "13  Second       UNISA\n",
      "14  Second       UNISA\n"
     ]
    }
   ],
   "source": [
    "import pandas as pd\n",
    "University=pd.read_csv('University.csv')\n",
    "uniquecolumns=University[['Grade','Institution']]\n",
    "print(uniquecolumns)"
   ]
  },
  {
   "cell_type": "code",
   "execution_count": 4,
   "id": "67809cb6-762c-4708-ade1-6166436b2f9b",
   "metadata": {},
   "outputs": [
    {
     "name": "stdout",
     "output_type": "stream",
     "text": [
      "   Institution  Completionyear\n",
      "0   Strathmore            2010\n",
      "1   Strathmore            2022\n",
      "2   Strathmore            2023\n",
      "3   Strathmore            2015\n",
      "4          UOE            2014\n",
      "5         USIU            2021\n",
      "6         USIU            2022\n",
      "7          UON            2023\n",
      "8          Moi            2015\n",
      "9          UON            2014\n",
      "10        USIU            2021\n",
      "11        USIU            2014\n",
      "12       UNISA            2010\n",
      "13       UNISA            2022\n",
      "14       UNISA            2023\n"
     ]
    }
   ],
   "source": [
    "University=pd.read_csv('University.csv')\n",
    "uniquecolumns=University[['Institution','Completionyear']]\n",
    "print(uniquecolumns)"
   ]
  },
  {
   "cell_type": "code",
   "execution_count": 11,
   "id": "88b7467f-666d-4828-9ae9-8b2139796c6c",
   "metadata": {},
   "outputs": [
    {
     "name": "stdout",
     "output_type": "stream",
     "text": [
      "0     Strathmore\n",
      "1     Strathmore\n",
      "2     Strathmore\n",
      "3     Strathmore\n",
      "4            NaN\n",
      "5            NaN\n",
      "6            NaN\n",
      "7            NaN\n",
      "8            NaN\n",
      "9            NaN\n",
      "10           NaN\n",
      "11           NaN\n",
      "12           NaN\n",
      "13           NaN\n",
      "14           NaN\n",
      "Name: Institution, dtype: object\n"
     ]
    }
   ],
   "source": [
    "import pandas as pd\n",
    "University=pd.read_csv('University.csv')\n",
    "strathmorevalues=University['Institution'].where(University['Institution']=='Strathmore')\n",
    "print(strathmorevalues)"
   ]
  },
  {
   "cell_type": "code",
   "execution_count": 19,
   "id": "62e33f4d-542c-45ac-952f-9fcfe0760bc3",
   "metadata": {},
   "outputs": [
    {
     "data": {
      "text/plain": [
       "0        NaN\n",
       "1        NaN\n",
       "2     Second\n",
       "3     Second\n",
       "4     Second\n",
       "5     Second\n",
       "6     Second\n",
       "7     Second\n",
       "8        NaN\n",
       "9        NaN\n",
       "10       NaN\n",
       "11       NaN\n",
       "12       NaN\n",
       "13    Second\n",
       "14    Second\n",
       "Name: Grade, dtype: object"
      ]
     },
     "execution_count": 19,
     "metadata": {},
     "output_type": "execute_result"
    }
   ],
   "source": [
    "#second values of UNISA\n",
    "secondgradevalues = University['Grade'].where(University['Grade']=='Second')\n",
    "secondgradevalues"
   ]
  },
  {
   "cell_type": "code",
   "execution_count": 17,
   "id": "83b50a3d-2abd-4f14-8d76-1c72fbcd7da9",
   "metadata": {},
   "outputs": [
    {
     "name": "stdout",
     "output_type": "stream",
     "text": [
      "0      NaN\n",
      "1      NaN\n",
      "2      NaN\n",
      "3      NaN\n",
      "4      NaN\n",
      "5      NaN\n",
      "6      NaN\n",
      "7      NaN\n",
      "8      NaN\n",
      "9      NaN\n",
      "10    Pass\n",
      "11    Pass\n",
      "12     NaN\n",
      "13     NaN\n",
      "14     NaN\n",
      "Name: Grade, dtype: object\n"
     ]
    }
   ],
   "source": [
    "valuepass= University['Grade'].where(\n",
    "    (University['Grade']=='Pass') & (University['Institution']=='USIU')\n",
    ")\n",
    "print(valuepass)"
   ]
  },
  {
   "cell_type": "code",
   "execution_count": 1,
   "id": "48583e6b-228a-4d4d-8af9-b609810bcc08",
   "metadata": {},
   "outputs": [
    {
     "name": "stdout",
     "output_type": "stream",
     "text": [
      "   CustomerNo CustomerName      City  Feespaid\n",
      "0      YT6998       Benard  Pretoria     500.0\n",
      "1      RF2344      Maurice  Pretoria     564.0\n",
      "2      RY5643       Juliet   Kampala     354.0\n",
      "3      GH4563         Noel   Kampala     456.0\n",
      "4      RT8976      Leonard    Durban     457.0\n",
      "5      LK4356       Hellen  Pretoria     678.0\n",
      "6      LK4356       Hellen  Pretoria     678.0\n",
      "7      345678      Derrick   Kampala     897.0\n",
      "8      RY5643     Beatrice   Mombasa     876.0\n",
      "9      GH4563        Grace   Mombasa     457.0\n",
      "10     RT8976       Reagan    Durban       NaN\n",
      "11     LK4356       Benard   Mombasa     298.0\n",
      "12     YT6998       Juliet  Pretoria     675.0\n",
      "13     345678         Noel   Kampala     745.0\n",
      "14     RY5643      Leonard  Pretoria     908.0\n",
      "15     GH4563      Vincent   Kampala     786.0\n"
     ]
    }
   ],
   "source": [
    "import pandas as pd\n",
    "feepaid=pd.read_csv('feepaid.csv')\n",
    "print(feepaid)"
   ]
  },
  {
   "cell_type": "code",
   "execution_count": 2,
   "id": "1abb6514-fc62-47cd-988e-fb3753c4534b",
   "metadata": {},
   "outputs": [
    {
     "name": "stdout",
     "output_type": "stream",
     "text": [
      "   CustomerNo CustomerName      City  Feespaid\n",
      "0      YT6998       Benard  Pretoria     500.0\n",
      "1      RF2344      Maurice  Pretoria     564.0\n",
      "2      RY5643       Juliet   Kampala     354.0\n",
      "3      GH4563         Noel   Kampala     456.0\n",
      "4      RT8976      Leonard    Durban     457.0\n",
      "5      LK4356       Hellen  Pretoria     678.0\n",
      "6      LK4356       Hellen  Pretoria     678.0\n",
      "7      345678      Derrick   Kampala     897.0\n",
      "8      RY5643     Beatrice   Mombasa     876.0\n",
      "9      GH4563        Grace   Mombasa     457.0\n",
      "11     LK4356       Benard   Mombasa     298.0\n",
      "12     YT6998       Juliet  Pretoria     675.0\n",
      "13     345678         Noel   Kampala     745.0\n",
      "14     RY5643      Leonard  Pretoria     908.0\n",
      "15     GH4563      Vincent   Kampala     786.0\n"
     ]
    }
   ],
   "source": [
    "import pandas as pd\n",
    "cleaning=pd.read_csv('feepaid.csv')\n",
    "newcleaning=cleaning.dropna()\n",
    "print(newcleaning)"
   ]
  },
  {
   "cell_type": "code",
   "execution_count": 7,
   "id": "bf558bcf-ecb5-46c8-b54e-34a7a12d790d",
   "metadata": {},
   "outputs": [
    {
     "data": {
      "text/plain": [
       "0     False\n",
       "1     False\n",
       "2     False\n",
       "3     False\n",
       "4     False\n",
       "5     False\n",
       "6      True\n",
       "7     False\n",
       "8     False\n",
       "9     False\n",
       "11    False\n",
       "12    False\n",
       "13    False\n",
       "14    False\n",
       "15    False\n",
       "dtype: bool"
      ]
     },
     "execution_count": 7,
     "metadata": {},
     "output_type": "execute_result"
    }
   ],
   "source": [
    "newcleaning.duplicated()"
   ]
  },
  {
   "cell_type": "code",
   "execution_count": 10,
   "id": "2e984bb2-3f6f-424e-ba08-3af1db654f87",
   "metadata": {},
   "outputs": [
    {
     "data": {
      "text/html": [
       "<div>\n",
       "<style scoped>\n",
       "    .dataframe tbody tr th:only-of-type {\n",
       "        vertical-align: middle;\n",
       "    }\n",
       "\n",
       "    .dataframe tbody tr th {\n",
       "        vertical-align: top;\n",
       "    }\n",
       "\n",
       "    .dataframe thead th {\n",
       "        text-align: right;\n",
       "    }\n",
       "</style>\n",
       "<table border=\"1\" class=\"dataframe\">\n",
       "  <thead>\n",
       "    <tr style=\"text-align: right;\">\n",
       "      <th></th>\n",
       "      <th>CustomerNo</th>\n",
       "      <th>CustomerName</th>\n",
       "      <th>City</th>\n",
       "      <th>Feespaid</th>\n",
       "    </tr>\n",
       "  </thead>\n",
       "  <tbody>\n",
       "    <tr>\n",
       "      <th>0</th>\n",
       "      <td>YT6998</td>\n",
       "      <td>Benard</td>\n",
       "      <td>Pretoria</td>\n",
       "      <td>500.0</td>\n",
       "    </tr>\n",
       "    <tr>\n",
       "      <th>1</th>\n",
       "      <td>RF2344</td>\n",
       "      <td>Maurice</td>\n",
       "      <td>Pretoria</td>\n",
       "      <td>564.0</td>\n",
       "    </tr>\n",
       "    <tr>\n",
       "      <th>2</th>\n",
       "      <td>RY5643</td>\n",
       "      <td>Juliet</td>\n",
       "      <td>Kampala</td>\n",
       "      <td>354.0</td>\n",
       "    </tr>\n",
       "    <tr>\n",
       "      <th>3</th>\n",
       "      <td>GH4563</td>\n",
       "      <td>Noel</td>\n",
       "      <td>Kampala</td>\n",
       "      <td>456.0</td>\n",
       "    </tr>\n",
       "    <tr>\n",
       "      <th>4</th>\n",
       "      <td>RT8976</td>\n",
       "      <td>Leonard</td>\n",
       "      <td>Durban</td>\n",
       "      <td>457.0</td>\n",
       "    </tr>\n",
       "    <tr>\n",
       "      <th>5</th>\n",
       "      <td>LK4356</td>\n",
       "      <td>Hellen</td>\n",
       "      <td>Pretoria</td>\n",
       "      <td>678.0</td>\n",
       "    </tr>\n",
       "    <tr>\n",
       "      <th>6</th>\n",
       "      <td>LK4356</td>\n",
       "      <td>Hellen</td>\n",
       "      <td>Pretoria</td>\n",
       "      <td>678.0</td>\n",
       "    </tr>\n",
       "    <tr>\n",
       "      <th>7</th>\n",
       "      <td>345678</td>\n",
       "      <td>Derrick</td>\n",
       "      <td>Kampala</td>\n",
       "      <td>897.0</td>\n",
       "    </tr>\n",
       "    <tr>\n",
       "      <th>8</th>\n",
       "      <td>RY5643</td>\n",
       "      <td>Beatrice</td>\n",
       "      <td>Mombasa</td>\n",
       "      <td>876.0</td>\n",
       "    </tr>\n",
       "    <tr>\n",
       "      <th>9</th>\n",
       "      <td>GH4563</td>\n",
       "      <td>Grace</td>\n",
       "      <td>Mombasa</td>\n",
       "      <td>457.0</td>\n",
       "    </tr>\n",
       "    <tr>\n",
       "      <th>11</th>\n",
       "      <td>LK4356</td>\n",
       "      <td>Benard</td>\n",
       "      <td>Mombasa</td>\n",
       "      <td>298.0</td>\n",
       "    </tr>\n",
       "    <tr>\n",
       "      <th>12</th>\n",
       "      <td>YT6998</td>\n",
       "      <td>Juliet</td>\n",
       "      <td>Pretoria</td>\n",
       "      <td>675.0</td>\n",
       "    </tr>\n",
       "    <tr>\n",
       "      <th>13</th>\n",
       "      <td>345678</td>\n",
       "      <td>Noel</td>\n",
       "      <td>Kampala</td>\n",
       "      <td>745.0</td>\n",
       "    </tr>\n",
       "    <tr>\n",
       "      <th>14</th>\n",
       "      <td>RY5643</td>\n",
       "      <td>Leonard</td>\n",
       "      <td>Pretoria</td>\n",
       "      <td>908.0</td>\n",
       "    </tr>\n",
       "    <tr>\n",
       "      <th>15</th>\n",
       "      <td>GH4563</td>\n",
       "      <td>Vincent</td>\n",
       "      <td>Kampala</td>\n",
       "      <td>786.0</td>\n",
       "    </tr>\n",
       "  </tbody>\n",
       "</table>\n",
       "</div>"
      ],
      "text/plain": [
       "   CustomerNo CustomerName      City  Feespaid\n",
       "0      YT6998       Benard  Pretoria     500.0\n",
       "1      RF2344      Maurice  Pretoria     564.0\n",
       "2      RY5643       Juliet   Kampala     354.0\n",
       "3      GH4563         Noel   Kampala     456.0\n",
       "4      RT8976      Leonard    Durban     457.0\n",
       "5      LK4356       Hellen  Pretoria     678.0\n",
       "6      LK4356       Hellen  Pretoria     678.0\n",
       "7      345678      Derrick   Kampala     897.0\n",
       "8      RY5643     Beatrice   Mombasa     876.0\n",
       "9      GH4563        Grace   Mombasa     457.0\n",
       "11     LK4356       Benard   Mombasa     298.0\n",
       "12     YT6998       Juliet  Pretoria     675.0\n",
       "13     345678         Noel   Kampala     745.0\n",
       "14     RY5643      Leonard  Pretoria     908.0\n",
       "15     GH4563      Vincent   Kampala     786.0"
      ]
     },
     "execution_count": 10,
     "metadata": {},
     "output_type": "execute_result"
    }
   ],
   "source": [
    "newcleaning"
   ]
  },
  {
   "cell_type": "code",
   "execution_count": 37,
   "id": "67640659-0022-4036-a0ba-493b15a3ba40",
   "metadata": {},
   "outputs": [
    {
     "name": "stdout",
     "output_type": "stream",
     "text": [
      "   CustomerNo CustomerName      City  Feespaid\n",
      "0      YT6998       Benard  Pretoria     500.0\n",
      "1      RF2344      Maurice  Pretoria     564.0\n",
      "2      RY5643       Juliet   Kampala     354.0\n",
      "3      GH4563         Noel   Kampala     456.0\n",
      "4      RT8976      Leonard    Durban     457.0\n",
      "5      LK4356       Hellen  Pretoria     678.0\n",
      "7      345678      Derrick   Kampala     897.0\n",
      "8      RY5643     Beatrice   Mombasa     876.0\n",
      "9      GH4563        Grace   Mombasa     457.0\n",
      "11     LK4356       Benard   Mombasa     298.0\n",
      "12     YT6998       Juliet  Pretoria     675.0\n",
      "13     345678         Noel   Kampala     745.0\n",
      "14     RY5643      Leonard  Pretoria     908.0\n",
      "15     GH4563      Vincent   Kampala     786.0\n"
     ]
    },
    {
     "name": "stderr",
     "output_type": "stream",
     "text": [
      "C:\\Users\\Administrator\\AppData\\Local\\Temp\\ipykernel_16656\\508438619.py:1: SettingWithCopyWarning: \n",
      "A value is trying to be set on a copy of a slice from a DataFrame\n",
      "\n",
      "See the caveats in the documentation: https://pandas.pydata.org/pandas-docs/stable/user_guide/indexing.html#returning-a-view-versus-a-copy\n",
      "  newcleaning.drop_duplicates(inplace = True)\n"
     ]
    }
   ],
   "source": [
    "newcleaning.drop_duplicates(inplace = True)\n",
    "print(newcleaning)"
   ]
  },
  {
   "cell_type": "code",
   "execution_count": 18,
   "id": "0eca9110-a7fc-4dc6-bb73-81e7ea763e22",
   "metadata": {},
   "outputs": [
    {
     "data": {
      "text/html": [
       "<div>\n",
       "<style scoped>\n",
       "    .dataframe tbody tr th:only-of-type {\n",
       "        vertical-align: middle;\n",
       "    }\n",
       "\n",
       "    .dataframe tbody tr th {\n",
       "        vertical-align: top;\n",
       "    }\n",
       "\n",
       "    .dataframe thead th {\n",
       "        text-align: right;\n",
       "    }\n",
       "</style>\n",
       "<table border=\"1\" class=\"dataframe\">\n",
       "  <thead>\n",
       "    <tr style=\"text-align: right;\">\n",
       "      <th></th>\n",
       "      <th>CustomerNo</th>\n",
       "      <th>CustomerName</th>\n",
       "      <th>City</th>\n",
       "      <th>Feespaid</th>\n",
       "    </tr>\n",
       "  </thead>\n",
       "  <tbody>\n",
       "    <tr>\n",
       "      <th>0</th>\n",
       "      <td>YT6998</td>\n",
       "      <td>Benard</td>\n",
       "      <td>Pretoria</td>\n",
       "      <td>500.0</td>\n",
       "    </tr>\n",
       "    <tr>\n",
       "      <th>1</th>\n",
       "      <td>RF2344</td>\n",
       "      <td>Maurice</td>\n",
       "      <td>Pretoria</td>\n",
       "      <td>564.0</td>\n",
       "    </tr>\n",
       "    <tr>\n",
       "      <th>2</th>\n",
       "      <td>RY5643</td>\n",
       "      <td>Juliet</td>\n",
       "      <td>Kampala</td>\n",
       "      <td>354.0</td>\n",
       "    </tr>\n",
       "    <tr>\n",
       "      <th>3</th>\n",
       "      <td>GH4563</td>\n",
       "      <td>Noel</td>\n",
       "      <td>Kampala</td>\n",
       "      <td>456.0</td>\n",
       "    </tr>\n",
       "    <tr>\n",
       "      <th>4</th>\n",
       "      <td>RT8976</td>\n",
       "      <td>Leonard</td>\n",
       "      <td>Durban</td>\n",
       "      <td>457.0</td>\n",
       "    </tr>\n",
       "    <tr>\n",
       "      <th>5</th>\n",
       "      <td>LK4356</td>\n",
       "      <td>Hellen</td>\n",
       "      <td>Pretoria</td>\n",
       "      <td>678.0</td>\n",
       "    </tr>\n",
       "    <tr>\n",
       "      <th>7</th>\n",
       "      <td>345678</td>\n",
       "      <td>Derrick</td>\n",
       "      <td>Kampala</td>\n",
       "      <td>897.0</td>\n",
       "    </tr>\n",
       "    <tr>\n",
       "      <th>8</th>\n",
       "      <td>RY5643</td>\n",
       "      <td>Beatrice</td>\n",
       "      <td>Mombasa</td>\n",
       "      <td>876.0</td>\n",
       "    </tr>\n",
       "    <tr>\n",
       "      <th>9</th>\n",
       "      <td>GH4563</td>\n",
       "      <td>Grace</td>\n",
       "      <td>Mombasa</td>\n",
       "      <td>457.0</td>\n",
       "    </tr>\n",
       "    <tr>\n",
       "      <th>11</th>\n",
       "      <td>LK4356</td>\n",
       "      <td>Benard</td>\n",
       "      <td>Mombasa</td>\n",
       "      <td>298.0</td>\n",
       "    </tr>\n",
       "    <tr>\n",
       "      <th>12</th>\n",
       "      <td>YT6998</td>\n",
       "      <td>Juliet</td>\n",
       "      <td>Pretoria</td>\n",
       "      <td>675.0</td>\n",
       "    </tr>\n",
       "    <tr>\n",
       "      <th>13</th>\n",
       "      <td>345678</td>\n",
       "      <td>Noel</td>\n",
       "      <td>Kampala</td>\n",
       "      <td>745.0</td>\n",
       "    </tr>\n",
       "    <tr>\n",
       "      <th>14</th>\n",
       "      <td>RY5643</td>\n",
       "      <td>Leonard</td>\n",
       "      <td>Pretoria</td>\n",
       "      <td>908.0</td>\n",
       "    </tr>\n",
       "    <tr>\n",
       "      <th>15</th>\n",
       "      <td>GH4563</td>\n",
       "      <td>Vincent</td>\n",
       "      <td>Kampala</td>\n",
       "      <td>786.0</td>\n",
       "    </tr>\n",
       "  </tbody>\n",
       "</table>\n",
       "</div>"
      ],
      "text/plain": [
       "   CustomerNo CustomerName      City  Feespaid\n",
       "0      YT6998       Benard  Pretoria     500.0\n",
       "1      RF2344      Maurice  Pretoria     564.0\n",
       "2      RY5643       Juliet   Kampala     354.0\n",
       "3      GH4563         Noel   Kampala     456.0\n",
       "4      RT8976      Leonard    Durban     457.0\n",
       "5      LK4356       Hellen  Pretoria     678.0\n",
       "7      345678      Derrick   Kampala     897.0\n",
       "8      RY5643     Beatrice   Mombasa     876.0\n",
       "9      GH4563        Grace   Mombasa     457.0\n",
       "11     LK4356       Benard   Mombasa     298.0\n",
       "12     YT6998       Juliet  Pretoria     675.0\n",
       "13     345678         Noel   Kampala     745.0\n",
       "14     RY5643      Leonard  Pretoria     908.0\n",
       "15     GH4563      Vincent   Kampala     786.0"
      ]
     },
     "execution_count": 18,
     "metadata": {},
     "output_type": "execute_result"
    }
   ],
   "source": [
    "newcleaning"
   ]
  },
  {
   "cell_type": "code",
   "execution_count": 19,
   "id": "5484744c-5ce4-4585-ad7b-d0ea8b5940ae",
   "metadata": {},
   "outputs": [
    {
     "name": "stdout",
     "output_type": "stream",
     "text": [
      "    EmployeeID EmployeeFname  Gender   Country  Salary\n",
      "0        201.0          Anne  Female     Kenya   40000\n",
      "1        203.0         Alice  Female    Uganda   60000\n",
      "2        204.0        Andrew    Male   Burundi   70000\n",
      "3        205.0           Job    Male     Kenya   87000\n",
      "4        206.0       Vincent    Male     Kenya   45000\n",
      "5        208.0          Ayub    Male    Uganda   56000\n",
      "6        209.0        Joseph    Male  Tanzania   64000\n",
      "7        210.0       Barrack    Male  Tanzania   60000\n",
      "8        201.0          Anne  Female     Kenya   40000\n",
      "9        206.0       Vincent    Male     Kenya   45000\n",
      "10         NaN        Andrew    Male   Burundi   70000\n",
      "11       215.0        Victor    Male  Tanzania   89000\n"
     ]
    }
   ],
   "source": [
    "import pandas as pd\n",
    "Country=pd.read_csv('Country.csv')\n",
    "print(Country)"
   ]
  },
  {
   "cell_type": "code",
   "execution_count": 30,
   "id": "13f56012-c547-4a33-8b63-3575ad6e3c59",
   "metadata": {},
   "outputs": [
    {
     "data": {
      "text/plain": [
       "0     False\n",
       "1     False\n",
       "2     False\n",
       "3     False\n",
       "4     False\n",
       "5     False\n",
       "6     False\n",
       "7     False\n",
       "10    False\n",
       "11    False\n",
       "dtype: bool"
      ]
     },
     "execution_count": 30,
     "metadata": {},
     "output_type": "execute_result"
    }
   ],
   "source": [
    "Country.duplicated()"
   ]
  },
  {
   "cell_type": "code",
   "execution_count": 20,
   "id": "a9520dc4-ee70-4358-8e04-bd4a31dc3c71",
   "metadata": {},
   "outputs": [
    {
     "name": "stdout",
     "output_type": "stream",
     "text": [
      "    EmployeeID EmployeeFname  Gender   Country  Salary\n",
      "0        201.0          Anne  Female     Kenya   40000\n",
      "1        203.0         Alice  Female    Uganda   60000\n",
      "2        204.0        Andrew    Male   Burundi   70000\n",
      "3        205.0           Job    Male     Kenya   87000\n",
      "4        206.0       Vincent    Male     Kenya   45000\n",
      "5        208.0          Ayub    Male    Uganda   56000\n",
      "6        209.0        Joseph    Male  Tanzania   64000\n",
      "7        210.0       Barrack    Male  Tanzania   60000\n",
      "8        201.0          Anne  Female     Kenya   40000\n",
      "9        206.0       Vincent    Male     Kenya   45000\n",
      "10         NaN        Andrew    Male   Burundi   70000\n",
      "11       215.0        Victor    Male  Tanzania   89000\n"
     ]
    }
   ],
   "source": [
    "Country.dropna\n",
    "print(Country)"
   ]
  },
  {
   "cell_type": "code",
   "execution_count": 29,
   "id": "db2085c2-b1c1-4f15-8534-2719878e4545",
   "metadata": {},
   "outputs": [
    {
     "name": "stdout",
     "output_type": "stream",
     "text": [
      "    EmployeeID EmployeeFname  Gender   Country  Salary\n",
      "0        201.0          Anne  Female     Kenya   40000\n",
      "1        203.0         Alice  Female    Uganda   60000\n",
      "2        204.0        Andrew    Male   Burundi   70000\n",
      "3        205.0           Job    Male     Kenya   87000\n",
      "4        206.0       Vincent    Male     Kenya   45000\n",
      "5        208.0          Ayub    Male    Uganda   56000\n",
      "6        209.0        Joseph    Male  Tanzania   64000\n",
      "7        210.0       Barrack    Male  Tanzania   60000\n",
      "10         NaN        Andrew    Male   Burundi   70000\n",
      "11       215.0        Victor    Male  Tanzania   89000\n"
     ]
    }
   ],
   "source": [
    "Country.drop_duplicates(inplace = True)\n",
    "print(Country)"
   ]
  },
  {
   "cell_type": "code",
   "execution_count": 31,
   "id": "1caaa39b-9a3c-44a5-b773-27d5957e6ff5",
   "metadata": {},
   "outputs": [
    {
     "name": "stdout",
     "output_type": "stream",
     "text": [
      "The total salary is:\n",
      "641000\n"
     ]
    }
   ],
   "source": [
    "salarytotal=Country['Salary'].sum()\n",
    "print('The total salary is:')\n",
    "print(salarytotal)"
   ]
  },
  {
   "cell_type": "code",
   "execution_count": 2,
   "id": "68f10f8b-00f2-45bc-ab74-8b245948a254",
   "metadata": {},
   "outputs": [
    {
     "name": "stdout",
     "output_type": "stream",
     "text": [
      "     Grade Institution  Completionyear\n",
      "0    First  Strathmore            2010\n",
      "1    First  Strathmore            2022\n",
      "2   Second  Strathmore            2023\n",
      "3   Second  Strathmore            2015\n",
      "4   Second         UOE            2014\n",
      "5   Second        USIU            2021\n",
      "6   Second        USIU            2022\n",
      "7   Second         UON            2023\n",
      "8     Pass         Moi            2015\n",
      "9     Pass         UON            2014\n",
      "10    Pass        USIU            2021\n",
      "11    Pass        USIU            2014\n",
      "12   First       UNISA            2010\n",
      "13  Second       UNISA            2022\n",
      "14  Second       UNISA            2023\n"
     ]
    }
   ],
   "source": [
    "import pandas as pd\n",
    "University=pd.read_csv('University.csv')\n",
    "print(University)"
   ]
  },
  {
   "cell_type": "code",
   "execution_count": 3,
   "id": "6da7d776-3ebc-4676-a23c-1d38be6d6815",
   "metadata": {},
   "outputs": [
    {
     "name": "stdout",
     "output_type": "stream",
     "text": [
      "Encoded data is:\n",
      "     Grade  Institution  Completionyear\n",
      "0       0            1               0\n",
      "1       0            1               4\n",
      "2       2            1               5\n",
      "3       2            1               2\n",
      "4       2            3               1\n",
      "5       2            5               3\n",
      "6       2            5               4\n",
      "7       2            4               5\n",
      "8       1            0               2\n",
      "9       1            4               1\n",
      "10      1            5               3\n",
      "11      1            5               1\n",
      "12      0            2               0\n",
      "13      2            2               4\n",
      "14      2            2               5\n"
     ]
    }
   ],
   "source": [
    "import pandas as pd\n",
    "from sklearn import preprocessing\n",
    "University=pd.read_csv('University.csv')\n",
    "encode=preprocessing.LabelEncoder()\n",
    "EncodedUniversity=University.apply(preprocessing.LabelEncoder().fit_transform)\n",
    "print('Encoded data is:\\n',EncodedUniversity)"
   ]
  },
  {
   "cell_type": "code",
   "execution_count": 41,
   "id": "dc173061-5b63-44fe-9e5e-c77bc596b247",
   "metadata": {},
   "outputs": [
    {
     "name": "stdout",
     "output_type": "stream",
     "text": [
      "[11]\n"
     ]
    }
   ],
   "source": [
    "#splitting the data\n",
    "import pandas as pd\n",
    "from numpy import array\n",
    "slicing=array([11,22,33,44,55])\n",
    "print(slicing[0:1])"
   ]
  },
  {
   "cell_type": "code",
   "execution_count": 40,
   "id": "f6a109df-9b68-471f-9bc4-b2b4cf72cbc5",
   "metadata": {},
   "outputs": [
    {
     "name": "stdout",
     "output_type": "stream",
     "text": [
      "[22]\n"
     ]
    }
   ],
   "source": [
    "import pandas as pd\n",
    "from numpy import array\n",
    "slicing=array([11,22,33,44,55])\n",
    "print(slicing[1:2])"
   ]
  },
  {
   "cell_type": "code",
   "execution_count": 42,
   "id": "60c6eedf-0ae3-45c5-96c9-0306904e87ab",
   "metadata": {},
   "outputs": [
    {
     "name": "stdout",
     "output_type": "stream",
     "text": [
      "[44 55]\n"
     ]
    }
   ],
   "source": [
    "print(slicing[-2:])"
   ]
  },
  {
   "cell_type": "code",
   "execution_count": 43,
   "id": "568adcd7-55c5-4627-9551-2f98436de54a",
   "metadata": {},
   "outputs": [
    {
     "name": "stdout",
     "output_type": "stream",
     "text": [
      "[33 44 55]\n"
     ]
    }
   ],
   "source": [
    "print(slicing[-3:])"
   ]
  },
  {
   "cell_type": "code",
   "execution_count": 4,
   "id": "b008bf23-cd45-412d-8b49-b44575bf10a7",
   "metadata": {},
   "outputs": [
    {
     "name": "stdout",
     "output_type": "stream",
     "text": [
      "[[0 1 0]\n",
      " [0 1 4]\n",
      " [2 1 5]\n",
      " [2 1 2]\n",
      " [2 3 1]\n",
      " [2 5 3]\n",
      " [2 5 4]\n",
      " [2 4 5]\n",
      " [1 0 2]\n",
      " [1 4 1]\n",
      " [1 5 3]\n",
      " [1 5 1]\n",
      " [0 2 0]\n",
      " [2 2 4]\n",
      " [2 2 5]]\n"
     ]
    }
   ],
   "source": [
    "numericarray=EncodedUniversity.values\n",
    "print(numericarray)"
   ]
  },
  {
   "cell_type": "code",
   "execution_count": 5,
   "id": "5a3f4541-1053-4de8-b689-f866cd95937e",
   "metadata": {},
   "outputs": [
    {
     "name": "stdout",
     "output_type": "stream",
     "text": [
      "Training Sample:\n",
      " [[0 1 0]\n",
      " [0 1 4]\n",
      " [2 1 5]\n",
      " [2 1 2]\n",
      " [2 3 1]\n",
      " [2 5 3]\n",
      " [2 5 4]\n",
      " [2 4 5]]\n",
      "\n",
      "Test Sample:\n",
      " [[1 0 2]\n",
      " [1 4 1]\n",
      " [1 5 3]\n",
      " [1 5 1]\n",
      " [0 2 0]\n",
      " [2 2 4]\n",
      " [2 2 5]]\n"
     ]
    }
   ],
   "source": [
    "split=8\n",
    "TrainingSample,TestSample=numericarray[:split,:],numericarray[split:,:]\n",
    "print('Training Sample:\\n',TrainingSample)\n",
    "print('\\nTest Sample:\\n',TestSample)"
   ]
  },
  {
   "cell_type": "code",
   "execution_count": 11,
   "id": "6adef412-db4f-4a37-8f63-c3d5e659a447",
   "metadata": {},
   "outputs": [
    {
     "name": "stdout",
     "output_type": "stream",
     "text": [
      "X attributes:\n",
      " [[0 1]\n",
      " [0 1]\n",
      " [2 1]\n",
      " [2 1]\n",
      " [2 3]\n",
      " [2 5]\n",
      " [2 5]\n",
      " [2 4]]\n",
      "\n",
      "Y attribute:\n",
      " [0 4 5 2 1 3 4 5]\n"
     ]
    }
   ],
   "source": [
    "#splitting data into input and output attributes\n",
    "X_attributes_trainingsample=TrainingSample[:,0:-1]\n",
    "Y_attributes_trainingsample=TrainingSample[:,-1]\n",
    "print('X attributes:\\n',X_attributes_trainingsample)\n",
    "print('\\nY attribute:\\n',Y_attributes_trainingsample)"
   ]
  },
  {
   "cell_type": "code",
   "execution_count": 14,
   "id": "64fecac9-2c8d-4877-aa66-03566dea990a",
   "metadata": {},
   "outputs": [
    {
     "name": "stdout",
     "output_type": "stream",
     "text": [
      "[[0.    1.   ]\n",
      " [0.    1.   ]\n",
      " [0.894 0.447]\n",
      " [0.894 0.447]\n",
      " [0.555 0.832]\n",
      " [0.371 0.928]\n",
      " [0.371 0.928]\n",
      " [0.447 0.894]]\n"
     ]
    }
   ],
   "source": [
    "from numpy import set_printoptions\n",
    "#Normalize the dataset\n",
    "normalized_X_attributes=preprocessing.normalize(X_attributes_trainingsample)\n",
    "#set print option\n",
    "set_printoptions(precision=3)\n",
    "print(normalized_X_attributes)"
   ]
  },
  {
   "cell_type": "code",
   "execution_count": null,
   "id": "ac197ba4-686a-4a82-b05c-6de77a479ab4",
   "metadata": {},
   "outputs": [],
   "source": []
  }
 ],
 "metadata": {
  "kernelspec": {
   "display_name": "Python 3 (ipykernel)",
   "language": "python",
   "name": "python3"
  },
  "language_info": {
   "codemirror_mode": {
    "name": "ipython",
    "version": 3
   },
   "file_extension": ".py",
   "mimetype": "text/x-python",
   "name": "python",
   "nbconvert_exporter": "python",
   "pygments_lexer": "ipython3",
   "version": "3.12.2"
  }
 },
 "nbformat": 4,
 "nbformat_minor": 5
}
