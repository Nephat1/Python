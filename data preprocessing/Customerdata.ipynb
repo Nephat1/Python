{
 "cells": [
  {
   "cell_type": "code",
   "execution_count": 2,
   "id": "d775b5a7-6a4c-44c9-b51a-e59b469c2f6b",
   "metadata": {},
   "outputs": [
    {
     "name": "stdout",
     "output_type": "stream",
     "text": [
      "   CustomerID  Age  AnnualIncome  SpendingScore\n",
      "0          99   39         15000             30\n",
      "1         100   41         35000             39\n",
      "2         101   30         50000             81\n",
      "3         102   23         20000             40\n",
      "4         103   19         30000             30\n",
      "5         104   21         40000             77\n",
      "6         105   20         35000             40\n",
      "7         106   23         20000             76\n",
      "8         107   31         18000             35\n"
     ]
    }
   ],
   "source": [
    "import pandas as pd\n",
    "customerdata=pd.read_csv('customerdata.csv')\n",
    "print(customerdata)"
   ]
  },
  {
   "cell_type": "code",
   "execution_count": 3,
   "id": "0b968e0d-2f6c-4f9a-a1c5-f40eadf6e76b",
   "metadata": {},
   "outputs": [
    {
     "name": "stdout",
     "output_type": "stream",
     "text": [
      "   CustomerID  Age  AnnualIncome  SpendingScore\n",
      "0          99   39         15000             30\n",
      "1         100   41         35000             39\n",
      "2         101   30         50000             81\n",
      "3         102   23         20000             40\n",
      "4         103   19         30000             30\n"
     ]
    }
   ],
   "source": [
    "print(customerdata.head(5))"
   ]
  },
  {
   "cell_type": "code",
   "execution_count": 4,
   "id": "9865e0af-283b-411f-9561-bdc2525b7593",
   "metadata": {},
   "outputs": [
    {
     "name": "stdout",
     "output_type": "stream",
     "text": [
      "<class 'pandas.core.frame.DataFrame'>\n",
      "RangeIndex: 9 entries, 0 to 8\n",
      "Data columns (total 4 columns):\n",
      " #   Column         Non-Null Count  Dtype\n",
      "---  ------         --------------  -----\n",
      " 0   CustomerID     9 non-null      int64\n",
      " 1   Age            9 non-null      int64\n",
      " 2   AnnualIncome   9 non-null      int64\n",
      " 3   SpendingScore  9 non-null      int64\n",
      "dtypes: int64(4)\n",
      "memory usage: 420.0 bytes\n",
      "None\n"
     ]
    }
   ],
   "source": [
    "print(customerdata.info())"
   ]
  },
  {
   "cell_type": "code",
   "execution_count": null,
   "id": "1eac10f0-cad8-4b8e-b37e-3a345c252814",
   "metadata": {},
   "outputs": [],
   "source": []
  }
 ],
 "metadata": {
  "kernelspec": {
   "display_name": "Python 3 (ipykernel)",
   "language": "python",
   "name": "python3"
  },
  "language_info": {
   "codemirror_mode": {
    "name": "ipython",
    "version": 3
   },
   "file_extension": ".py",
   "mimetype": "text/x-python",
   "name": "python",
   "nbconvert_exporter": "python",
   "pygments_lexer": "ipython3",
   "version": "3.12.2"
  }
 },
 "nbformat": 4,
 "nbformat_minor": 5
}
