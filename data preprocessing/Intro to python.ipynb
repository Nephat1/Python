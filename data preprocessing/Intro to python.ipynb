{
 "cells": [
  {
   "cell_type": "code",
   "execution_count": 1,
   "id": "d3bb532c-d7d6-479e-9da0-f39533a6fa5a",
   "metadata": {},
   "outputs": [
    {
     "name": "stdout",
     "output_type": "stream",
     "text": [
      "   StudentNumber StudentFName     City  FeePaid($)\n",
      "0         NE2345        James  Nairobi         400\n",
      "1         WR4657        Alice  Nairobi         564\n",
      "2         TY6453        Frida   Kisumu         354\n",
      "3         RT6576         Anne   Kisumu         456\n",
      "4         WE6534       Hellen   Nakuru         678\n",
      "5         YT6998         Joan  Nairobi         432\n",
      "6         TK7865      Derrick   Kisumu         897\n",
      "7         RY5643     Beatrice  Mombasa         876\n",
      "8         GH4563        Grace  Mombasa         457\n",
      "9         RT8976       Reagan   Nakuru         997\n",
      "10        LK4356       Benard  Mombasa         298\n",
      "11        PP5643      Maurice  Nairobi         986\n",
      "12        TB7894       Juliet  Nairobi         675\n",
      "13        YS3455         Noel   Kisumu         745\n",
      "14        QW4334      Leonard  Nairobi         908\n",
      "15        LQ3776      Vincent   Kisumu         786\n"
     ]
    }
   ],
   "source": [
    "import pandas as pd\n",
    "studentdata=pd.read_csv('Studentdata.csv')\n",
    "print(studentdata)"
   ]
  },
  {
   "cell_type": "code",
   "execution_count": 2,
   "id": "0001ada6-71fc-4b27-aadf-88be53840c0a",
   "metadata": {},
   "outputs": [
    {
     "data": {
      "text/html": [
       "<div>\n",
       "<style scoped>\n",
       "    .dataframe tbody tr th:only-of-type {\n",
       "        vertical-align: middle;\n",
       "    }\n",
       "\n",
       "    .dataframe tbody tr th {\n",
       "        vertical-align: top;\n",
       "    }\n",
       "\n",
       "    .dataframe thead th {\n",
       "        text-align: right;\n",
       "    }\n",
       "</style>\n",
       "<table border=\"1\" class=\"dataframe\">\n",
       "  <thead>\n",
       "    <tr style=\"text-align: right;\">\n",
       "      <th></th>\n",
       "      <th>StudentNumber</th>\n",
       "      <th>StudentFName</th>\n",
       "      <th>City</th>\n",
       "      <th>FeePaid($)</th>\n",
       "    </tr>\n",
       "  </thead>\n",
       "  <tbody>\n",
       "    <tr>\n",
       "      <th>0</th>\n",
       "      <td>NE2345</td>\n",
       "      <td>James</td>\n",
       "      <td>Nairobi</td>\n",
       "      <td>400</td>\n",
       "    </tr>\n",
       "    <tr>\n",
       "      <th>1</th>\n",
       "      <td>WR4657</td>\n",
       "      <td>Alice</td>\n",
       "      <td>Nairobi</td>\n",
       "      <td>564</td>\n",
       "    </tr>\n",
       "    <tr>\n",
       "      <th>2</th>\n",
       "      <td>TY6453</td>\n",
       "      <td>Frida</td>\n",
       "      <td>Kisumu</td>\n",
       "      <td>354</td>\n",
       "    </tr>\n",
       "    <tr>\n",
       "      <th>3</th>\n",
       "      <td>RT6576</td>\n",
       "      <td>Anne</td>\n",
       "      <td>Kisumu</td>\n",
       "      <td>456</td>\n",
       "    </tr>\n",
       "    <tr>\n",
       "      <th>4</th>\n",
       "      <td>WE6534</td>\n",
       "      <td>Hellen</td>\n",
       "      <td>Nakuru</td>\n",
       "      <td>678</td>\n",
       "    </tr>\n",
       "    <tr>\n",
       "      <th>5</th>\n",
       "      <td>YT6998</td>\n",
       "      <td>Joan</td>\n",
       "      <td>Nairobi</td>\n",
       "      <td>432</td>\n",
       "    </tr>\n",
       "    <tr>\n",
       "      <th>6</th>\n",
       "      <td>TK7865</td>\n",
       "      <td>Derrick</td>\n",
       "      <td>Kisumu</td>\n",
       "      <td>897</td>\n",
       "    </tr>\n",
       "    <tr>\n",
       "      <th>7</th>\n",
       "      <td>RY5643</td>\n",
       "      <td>Beatrice</td>\n",
       "      <td>Mombasa</td>\n",
       "      <td>876</td>\n",
       "    </tr>\n",
       "    <tr>\n",
       "      <th>8</th>\n",
       "      <td>GH4563</td>\n",
       "      <td>Grace</td>\n",
       "      <td>Mombasa</td>\n",
       "      <td>457</td>\n",
       "    </tr>\n",
       "    <tr>\n",
       "      <th>9</th>\n",
       "      <td>RT8976</td>\n",
       "      <td>Reagan</td>\n",
       "      <td>Nakuru</td>\n",
       "      <td>997</td>\n",
       "    </tr>\n",
       "    <tr>\n",
       "      <th>10</th>\n",
       "      <td>LK4356</td>\n",
       "      <td>Benard</td>\n",
       "      <td>Mombasa</td>\n",
       "      <td>298</td>\n",
       "    </tr>\n",
       "    <tr>\n",
       "      <th>11</th>\n",
       "      <td>PP5643</td>\n",
       "      <td>Maurice</td>\n",
       "      <td>Nairobi</td>\n",
       "      <td>986</td>\n",
       "    </tr>\n",
       "    <tr>\n",
       "      <th>12</th>\n",
       "      <td>TB7894</td>\n",
       "      <td>Juliet</td>\n",
       "      <td>Nairobi</td>\n",
       "      <td>675</td>\n",
       "    </tr>\n",
       "    <tr>\n",
       "      <th>13</th>\n",
       "      <td>YS3455</td>\n",
       "      <td>Noel</td>\n",
       "      <td>Kisumu</td>\n",
       "      <td>745</td>\n",
       "    </tr>\n",
       "    <tr>\n",
       "      <th>14</th>\n",
       "      <td>QW4334</td>\n",
       "      <td>Leonard</td>\n",
       "      <td>Nairobi</td>\n",
       "      <td>908</td>\n",
       "    </tr>\n",
       "    <tr>\n",
       "      <th>15</th>\n",
       "      <td>LQ3776</td>\n",
       "      <td>Vincent</td>\n",
       "      <td>Kisumu</td>\n",
       "      <td>786</td>\n",
       "    </tr>\n",
       "  </tbody>\n",
       "</table>\n",
       "</div>"
      ],
      "text/plain": [
       "   StudentNumber StudentFName     City  FeePaid($)\n",
       "0         NE2345        James  Nairobi         400\n",
       "1         WR4657        Alice  Nairobi         564\n",
       "2         TY6453        Frida   Kisumu         354\n",
       "3         RT6576         Anne   Kisumu         456\n",
       "4         WE6534       Hellen   Nakuru         678\n",
       "5         YT6998         Joan  Nairobi         432\n",
       "6         TK7865      Derrick   Kisumu         897\n",
       "7         RY5643     Beatrice  Mombasa         876\n",
       "8         GH4563        Grace  Mombasa         457\n",
       "9         RT8976       Reagan   Nakuru         997\n",
       "10        LK4356       Benard  Mombasa         298\n",
       "11        PP5643      Maurice  Nairobi         986\n",
       "12        TB7894       Juliet  Nairobi         675\n",
       "13        YS3455         Noel   Kisumu         745\n",
       "14        QW4334      Leonard  Nairobi         908\n",
       "15        LQ3776      Vincent   Kisumu         786"
      ]
     },
     "execution_count": 2,
     "metadata": {},
     "output_type": "execute_result"
    }
   ],
   "source": [
    "studentdata"
   ]
  },
  {
   "cell_type": "code",
   "execution_count": 3,
   "id": "115eb965-9b0f-47ad-a4a7-ad67a6739ddb",
   "metadata": {},
   "outputs": [
    {
     "name": "stdout",
     "output_type": "stream",
     "text": [
      "  StudentNumber StudentFName     City  FeePaid($)\n",
      "0        NE2345        James  Nairobi         400\n",
      "1        WR4657        Alice  Nairobi         564\n",
      "2        TY6453        Frida   Kisumu         354\n",
      "3        RT6576         Anne   Kisumu         456\n",
      "4        WE6534       Hellen   Nakuru         678\n"
     ]
    }
   ],
   "source": [
    "print(studentdata.head())"
   ]
  },
  {
   "cell_type": "code",
   "execution_count": 4,
   "id": "555d5d2a-afd5-4c06-8e2a-fd341ea80178",
   "metadata": {},
   "outputs": [
    {
     "name": "stdout",
     "output_type": "stream",
     "text": [
      "  StudentNumber StudentFName     City  FeePaid($)\n",
      "0        NE2345        James  Nairobi         400\n",
      "1        WR4657        Alice  Nairobi         564\n",
      "2        TY6453        Frida   Kisumu         354\n",
      "3        RT6576         Anne   Kisumu         456\n",
      "4        WE6534       Hellen   Nakuru         678\n",
      "5        YT6998         Joan  Nairobi         432\n"
     ]
    }
   ],
   "source": [
    "print(studentdata.head(6))"
   ]
  },
  {
   "cell_type": "code",
   "execution_count": 6,
   "id": "39f82cb9-47a3-4cb8-87a6-8133b1e77462",
   "metadata": {},
   "outputs": [
    {
     "name": "stdout",
     "output_type": "stream",
     "text": [
      "   StudentNumber StudentFName     City  FeePaid($)\n",
      "11        PP5643      Maurice  Nairobi         986\n",
      "12        TB7894       Juliet  Nairobi         675\n",
      "13        YS3455         Noel   Kisumu         745\n",
      "14        QW4334      Leonard  Nairobi         908\n",
      "15        LQ3776      Vincent   Kisumu         786\n"
     ]
    }
   ],
   "source": [
    "print(studentdata.tail())"
   ]
  },
  {
   "cell_type": "code",
   "execution_count": 7,
   "id": "950e4dc6-0262-4f75-b95a-ce3cc0e70c84",
   "metadata": {},
   "outputs": [
    {
     "name": "stdout",
     "output_type": "stream",
     "text": [
      "   StudentNumber StudentFName     City  FeePaid($)\n",
      "9         RT8976       Reagan   Nakuru         997\n",
      "10        LK4356       Benard  Mombasa         298\n",
      "11        PP5643      Maurice  Nairobi         986\n",
      "12        TB7894       Juliet  Nairobi         675\n",
      "13        YS3455         Noel   Kisumu         745\n",
      "14        QW4334      Leonard  Nairobi         908\n",
      "15        LQ3776      Vincent   Kisumu         786\n"
     ]
    }
   ],
   "source": [
    "print (studentdata.tail(7))"
   ]
  },
  {
   "cell_type": "code",
   "execution_count": 8,
   "id": "700b5528-ac3d-41d3-89d9-4ff3d955fe11",
   "metadata": {},
   "outputs": [
    {
     "data": {
      "text/html": [
       "<div>\n",
       "<style scoped>\n",
       "    .dataframe tbody tr th:only-of-type {\n",
       "        vertical-align: middle;\n",
       "    }\n",
       "\n",
       "    .dataframe tbody tr th {\n",
       "        vertical-align: top;\n",
       "    }\n",
       "\n",
       "    .dataframe thead th {\n",
       "        text-align: right;\n",
       "    }\n",
       "</style>\n",
       "<table border=\"1\" class=\"dataframe\">\n",
       "  <thead>\n",
       "    <tr style=\"text-align: right;\">\n",
       "      <th></th>\n",
       "      <th>StudentNumber</th>\n",
       "      <th>StudentFName</th>\n",
       "      <th>City</th>\n",
       "      <th>FeePaid($)</th>\n",
       "    </tr>\n",
       "  </thead>\n",
       "  <tbody>\n",
       "    <tr>\n",
       "      <th>10</th>\n",
       "      <td>LK4356</td>\n",
       "      <td>Benard</td>\n",
       "      <td>Mombasa</td>\n",
       "      <td>298</td>\n",
       "    </tr>\n",
       "    <tr>\n",
       "      <th>11</th>\n",
       "      <td>PP5643</td>\n",
       "      <td>Maurice</td>\n",
       "      <td>Nairobi</td>\n",
       "      <td>986</td>\n",
       "    </tr>\n",
       "    <tr>\n",
       "      <th>12</th>\n",
       "      <td>TB7894</td>\n",
       "      <td>Juliet</td>\n",
       "      <td>Nairobi</td>\n",
       "      <td>675</td>\n",
       "    </tr>\n",
       "    <tr>\n",
       "      <th>13</th>\n",
       "      <td>YS3455</td>\n",
       "      <td>Noel</td>\n",
       "      <td>Kisumu</td>\n",
       "      <td>745</td>\n",
       "    </tr>\n",
       "    <tr>\n",
       "      <th>14</th>\n",
       "      <td>QW4334</td>\n",
       "      <td>Leonard</td>\n",
       "      <td>Nairobi</td>\n",
       "      <td>908</td>\n",
       "    </tr>\n",
       "    <tr>\n",
       "      <th>15</th>\n",
       "      <td>LQ3776</td>\n",
       "      <td>Vincent</td>\n",
       "      <td>Kisumu</td>\n",
       "      <td>786</td>\n",
       "    </tr>\n",
       "  </tbody>\n",
       "</table>\n",
       "</div>"
      ],
      "text/plain": [
       "   StudentNumber StudentFName     City  FeePaid($)\n",
       "10        LK4356       Benard  Mombasa         298\n",
       "11        PP5643      Maurice  Nairobi         986\n",
       "12        TB7894       Juliet  Nairobi         675\n",
       "13        YS3455         Noel   Kisumu         745\n",
       "14        QW4334      Leonard  Nairobi         908\n",
       "15        LQ3776      Vincent   Kisumu         786"
      ]
     },
     "execution_count": 8,
     "metadata": {},
     "output_type": "execute_result"
    }
   ],
   "source": [
    "studentdata.tail(6)"
   ]
  },
  {
   "cell_type": "code",
   "execution_count": 2,
   "id": "b4d04e84-b026-41b1-ac91-4de1924ad623",
   "metadata": {},
   "outputs": [
    {
     "ename": "NameError",
     "evalue": "name 'studentdata' is not defined",
     "output_type": "error",
     "traceback": [
      "\u001b[31m---------------------------------------------------------------------------\u001b[39m",
      "\u001b[31mNameError\u001b[39m                                 Traceback (most recent call last)",
      "\u001b[36mCell\u001b[39m\u001b[36m \u001b[39m\u001b[32mIn[2]\u001b[39m\u001b[32m, line 1\u001b[39m\n\u001b[32m----> \u001b[39m\u001b[32m1\u001b[39m \u001b[38;5;28mprint\u001b[39m(\u001b[43mstudentdata\u001b[49m.info())\n",
      "\u001b[31mNameError\u001b[39m: name 'studentdata' is not defined"
     ]
    }
   ],
   "source": [
    "print(studentdata.info())"
   ]
  },
  {
   "cell_type": "code",
   "execution_count": 11,
   "id": "8c0c701f-427b-4954-afb1-0105cba203ac",
   "metadata": {},
   "outputs": [
    {
     "name": "stdout",
     "output_type": "stream",
     "text": [
      "  StudentNumber StudentFName    City  FeePaid($)\n",
      "4        WE6534       Hellen  Nakuru         678\n"
     ]
    }
   ],
   "source": [
    " print(studentdata.sample())"
   ]
  },
  {
   "cell_type": "code",
   "execution_count": 12,
   "id": "b48fbe65-3248-4c42-ae6e-0bd059e9764c",
   "metadata": {},
   "outputs": [
    {
     "data": {
      "text/html": [
       "<div>\n",
       "<style scoped>\n",
       "    .dataframe tbody tr th:only-of-type {\n",
       "        vertical-align: middle;\n",
       "    }\n",
       "\n",
       "    .dataframe tbody tr th {\n",
       "        vertical-align: top;\n",
       "    }\n",
       "\n",
       "    .dataframe thead th {\n",
       "        text-align: right;\n",
       "    }\n",
       "</style>\n",
       "<table border=\"1\" class=\"dataframe\">\n",
       "  <thead>\n",
       "    <tr style=\"text-align: right;\">\n",
       "      <th></th>\n",
       "      <th>StudentNumber</th>\n",
       "      <th>StudentFName</th>\n",
       "      <th>City</th>\n",
       "      <th>FeePaid($)</th>\n",
       "    </tr>\n",
       "  </thead>\n",
       "  <tbody>\n",
       "    <tr>\n",
       "      <th>15</th>\n",
       "      <td>LQ3776</td>\n",
       "      <td>Vincent</td>\n",
       "      <td>Kisumu</td>\n",
       "      <td>786</td>\n",
       "    </tr>\n",
       "    <tr>\n",
       "      <th>12</th>\n",
       "      <td>TB7894</td>\n",
       "      <td>Juliet</td>\n",
       "      <td>Nairobi</td>\n",
       "      <td>675</td>\n",
       "    </tr>\n",
       "    <tr>\n",
       "      <th>4</th>\n",
       "      <td>WE6534</td>\n",
       "      <td>Hellen</td>\n",
       "      <td>Nakuru</td>\n",
       "      <td>678</td>\n",
       "    </tr>\n",
       "    <tr>\n",
       "      <th>11</th>\n",
       "      <td>PP5643</td>\n",
       "      <td>Maurice</td>\n",
       "      <td>Nairobi</td>\n",
       "      <td>986</td>\n",
       "    </tr>\n",
       "    <tr>\n",
       "      <th>8</th>\n",
       "      <td>GH4563</td>\n",
       "      <td>Grace</td>\n",
       "      <td>Mombasa</td>\n",
       "      <td>457</td>\n",
       "    </tr>\n",
       "    <tr>\n",
       "      <th>10</th>\n",
       "      <td>LK4356</td>\n",
       "      <td>Benard</td>\n",
       "      <td>Mombasa</td>\n",
       "      <td>298</td>\n",
       "    </tr>\n",
       "  </tbody>\n",
       "</table>\n",
       "</div>"
      ],
      "text/plain": [
       "   StudentNumber StudentFName     City  FeePaid($)\n",
       "15        LQ3776      Vincent   Kisumu         786\n",
       "12        TB7894       Juliet  Nairobi         675\n",
       "4         WE6534       Hellen   Nakuru         678\n",
       "11        PP5643      Maurice  Nairobi         986\n",
       "8         GH4563        Grace  Mombasa         457\n",
       "10        LK4356       Benard  Mombasa         298"
      ]
     },
     "execution_count": 12,
     "metadata": {},
     "output_type": "execute_result"
    }
   ],
   "source": [
    "studentdata.sample(6)"
   ]
  },
  {
   "cell_type": "code",
   "execution_count": 1,
   "id": "207f9bec-9a3c-4e2d-9be6-e8170275a569",
   "metadata": {},
   "outputs": [
    {
     "name": "stdout",
     "output_type": "stream",
     "text": [
      "  Product Region  Sales\n",
      "0  Laptop  North  15000\n",
      "1  Laptop  South  18000\n",
      "2  Tablet  North   9000\n",
      "3  Tablet  South  12000\n",
      "4  Laptop  North  16000\n"
     ]
    }
   ],
   "source": [
    "#Example 2\n",
    "import pandas as pd\n",
    "sales=pd.read_csv('sales.csv')\n",
    "print(sales)"
   ]
  },
  {
   "cell_type": "code",
   "execution_count": 11,
   "id": "953b062c-2ca4-45bd-a4ff-0647fada736d",
   "metadata": {},
   "outputs": [
    {
     "data": {
      "text/html": [
       "<div>\n",
       "<style scoped>\n",
       "    .dataframe tbody tr th:only-of-type {\n",
       "        vertical-align: middle;\n",
       "    }\n",
       "\n",
       "    .dataframe tbody tr th {\n",
       "        vertical-align: top;\n",
       "    }\n",
       "\n",
       "    .dataframe thead th {\n",
       "        text-align: right;\n",
       "    }\n",
       "</style>\n",
       "<table border=\"1\" class=\"dataframe\">\n",
       "  <thead>\n",
       "    <tr style=\"text-align: right;\">\n",
       "      <th></th>\n",
       "      <th>Product</th>\n",
       "      <th>Region</th>\n",
       "      <th>Sales</th>\n",
       "    </tr>\n",
       "  </thead>\n",
       "  <tbody>\n",
       "    <tr>\n",
       "      <th>2</th>\n",
       "      <td>Tablet</td>\n",
       "      <td>North</td>\n",
       "      <td>9000</td>\n",
       "    </tr>\n",
       "  </tbody>\n",
       "</table>\n",
       "</div>"
      ],
      "text/plain": [
       "  Product Region  Sales\n",
       "2  Tablet  North   9000"
      ]
     },
     "execution_count": 11,
     "metadata": {},
     "output_type": "execute_result"
    }
   ],
   "source": [
    "sales.sample()"
   ]
  },
  {
   "cell_type": "code",
   "execution_count": 12,
   "id": "f1b1c2d1-4111-441d-9809-5ecd694c037a",
   "metadata": {},
   "outputs": [
    {
     "data": {
      "text/html": [
       "<div>\n",
       "<style scoped>\n",
       "    .dataframe tbody tr th:only-of-type {\n",
       "        vertical-align: middle;\n",
       "    }\n",
       "\n",
       "    .dataframe tbody tr th {\n",
       "        vertical-align: top;\n",
       "    }\n",
       "\n",
       "    .dataframe thead th {\n",
       "        text-align: right;\n",
       "    }\n",
       "</style>\n",
       "<table border=\"1\" class=\"dataframe\">\n",
       "  <thead>\n",
       "    <tr style=\"text-align: right;\">\n",
       "      <th></th>\n",
       "      <th>Product</th>\n",
       "      <th>Region</th>\n",
       "      <th>Sales</th>\n",
       "    </tr>\n",
       "  </thead>\n",
       "  <tbody>\n",
       "    <tr>\n",
       "      <th>0</th>\n",
       "      <td>Laptop</td>\n",
       "      <td>North</td>\n",
       "      <td>15000</td>\n",
       "    </tr>\n",
       "    <tr>\n",
       "      <th>1</th>\n",
       "      <td>Laptop</td>\n",
       "      <td>South</td>\n",
       "      <td>18000</td>\n",
       "    </tr>\n",
       "    <tr>\n",
       "      <th>2</th>\n",
       "      <td>Tablet</td>\n",
       "      <td>North</td>\n",
       "      <td>9000</td>\n",
       "    </tr>\n",
       "    <tr>\n",
       "      <th>3</th>\n",
       "      <td>Tablet</td>\n",
       "      <td>South</td>\n",
       "      <td>12000</td>\n",
       "    </tr>\n",
       "    <tr>\n",
       "      <th>4</th>\n",
       "      <td>Laptop</td>\n",
       "      <td>North</td>\n",
       "      <td>16000</td>\n",
       "    </tr>\n",
       "  </tbody>\n",
       "</table>\n",
       "</div>"
      ],
      "text/plain": [
       "  Product Region  Sales\n",
       "0  Laptop  North  15000\n",
       "1  Laptop  South  18000\n",
       "2  Tablet  North   9000\n",
       "3  Tablet  South  12000\n",
       "4  Laptop  North  16000"
      ]
     },
     "execution_count": 12,
     "metadata": {},
     "output_type": "execute_result"
    }
   ],
   "source": [
    "sales.tail(5)"
   ]
  },
  {
   "cell_type": "code",
   "execution_count": 14,
   "id": "3628fe18-5b6a-4e2d-a427-fe2c83c8c200",
   "metadata": {},
   "outputs": [
    {
     "data": {
      "text/html": [
       "<div>\n",
       "<style scoped>\n",
       "    .dataframe tbody tr th:only-of-type {\n",
       "        vertical-align: middle;\n",
       "    }\n",
       "\n",
       "    .dataframe tbody tr th {\n",
       "        vertical-align: top;\n",
       "    }\n",
       "\n",
       "    .dataframe thead th {\n",
       "        text-align: right;\n",
       "    }\n",
       "</style>\n",
       "<table border=\"1\" class=\"dataframe\">\n",
       "  <thead>\n",
       "    <tr style=\"text-align: right;\">\n",
       "      <th></th>\n",
       "      <th>Product</th>\n",
       "      <th>Region</th>\n",
       "      <th>Sales</th>\n",
       "    </tr>\n",
       "  </thead>\n",
       "  <tbody>\n",
       "    <tr>\n",
       "      <th>0</th>\n",
       "      <td>Laptop</td>\n",
       "      <td>North</td>\n",
       "      <td>15000</td>\n",
       "    </tr>\n",
       "    <tr>\n",
       "      <th>1</th>\n",
       "      <td>Laptop</td>\n",
       "      <td>South</td>\n",
       "      <td>18000</td>\n",
       "    </tr>\n",
       "    <tr>\n",
       "      <th>2</th>\n",
       "      <td>Tablet</td>\n",
       "      <td>North</td>\n",
       "      <td>9000</td>\n",
       "    </tr>\n",
       "    <tr>\n",
       "      <th>3</th>\n",
       "      <td>Tablet</td>\n",
       "      <td>South</td>\n",
       "      <td>12000</td>\n",
       "    </tr>\n",
       "    <tr>\n",
       "      <th>4</th>\n",
       "      <td>Laptop</td>\n",
       "      <td>North</td>\n",
       "      <td>16000</td>\n",
       "    </tr>\n",
       "  </tbody>\n",
       "</table>\n",
       "</div>"
      ],
      "text/plain": [
       "  Product Region  Sales\n",
       "0  Laptop  North  15000\n",
       "1  Laptop  South  18000\n",
       "2  Tablet  North   9000\n",
       "3  Tablet  South  12000\n",
       "4  Laptop  North  16000"
      ]
     },
     "execution_count": 14,
     "metadata": {},
     "output_type": "execute_result"
    }
   ],
   "source": [
    "sales.head(5)"
   ]
  },
  {
   "cell_type": "code",
   "execution_count": 16,
   "id": "587510ae-2091-478c-a74b-00a5962688df",
   "metadata": {},
   "outputs": [
    {
     "name": "stdout",
     "output_type": "stream",
     "text": [
      "<class 'pandas.core.frame.DataFrame'>\n",
      "RangeIndex: 5 entries, 0 to 4\n",
      "Data columns (total 3 columns):\n",
      " #   Column   Non-Null Count  Dtype \n",
      "---  ------   --------------  ----- \n",
      " 0   Product  5 non-null      object\n",
      " 1   Region   5 non-null      object\n",
      " 2   Sales    5 non-null      int64 \n",
      "dtypes: int64(1), object(2)\n",
      "memory usage: 252.0+ bytes\n"
     ]
    }
   ],
   "source": [
    "sales.info()"
   ]
  },
  {
   "cell_type": "code",
   "execution_count": 23,
   "id": "2e25ab92-9831-4901-aea7-efa42f77f244",
   "metadata": {},
   "outputs": [
    {
     "name": "stdout",
     "output_type": "stream",
     "text": [
      "Product\n",
      "Laptop    49000\n",
      "Tablet    21000\n",
      "Name: Sales, dtype: int64\n"
     ]
    }
   ],
   "source": [
    "   grouped = sales.groupby('Product')['Sales'].sum()\n",
    "   print(grouped)\n"
   ]
  },
  {
   "cell_type": "code",
   "execution_count": 25,
   "id": "dfe958b3-581a-445c-9491-885c7e774785",
   "metadata": {},
   "outputs": [
    {
     "name": "stdout",
     "output_type": "stream",
     "text": [
      "Product  Region\n",
      "Laptop   North     31000\n",
      "         South     18000\n",
      "Tablet   North      9000\n",
      "         South     12000\n",
      "Name: Sales, dtype: int64\n"
     ]
    }
   ],
   "source": [
    "grouped_both = sales.groupby(['Product', 'Region'])['Sales'].sum()\n",
    "print(grouped_both)"
   ]
  },
  {
   "cell_type": "code",
   "execution_count": 26,
   "id": "85d7a2e3-2e54-4a4c-997d-ba6a83b063fa",
   "metadata": {},
   "outputs": [
    {
     "name": "stdout",
     "output_type": "stream",
     "text": [
      "Region\n",
      "North    40000\n",
      "South    30000\n",
      "Name: Sales, dtype: int64\n"
     ]
    }
   ],
   "source": [
    "grouped = sales.groupby('Region')['Sales'].sum()\n",
    "print(grouped)"
   ]
  },
  {
   "cell_type": "code",
   "execution_count": null,
   "id": "ee485188-0555-4540-8f5d-399790588cb6",
   "metadata": {},
   "outputs": [],
   "source": []
  }
 ],
 "metadata": {
  "kernelspec": {
   "display_name": "Python 3 (ipykernel)",
   "language": "python",
   "name": "python3"
  },
  "language_info": {
   "codemirror_mode": {
    "name": "ipython",
    "version": 3
   },
   "file_extension": ".py",
   "mimetype": "text/x-python",
   "name": "python",
   "nbconvert_exporter": "python",
   "pygments_lexer": "ipython3",
   "version": "3.12.2"
  }
 },
 "nbformat": 4,
 "nbformat_minor": 5
}
